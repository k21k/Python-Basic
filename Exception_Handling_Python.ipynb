{
 "cells": [
  {
   "cell_type": "markdown",
   "metadata": {},
   "source": [
    "# Exception Handling"
   ]
  },
  {
   "cell_type": "markdown",
   "metadata": {},
   "source": [
    "### Try Except"
   ]
  },
  {
   "cell_type": "code",
   "execution_count": 13,
   "metadata": {},
   "outputs": [
    {
     "name": "stdout",
     "output_type": "stream",
     "text": [
      "Enter your nameg\n",
      "Please enter a valid name\n",
      "<class 'Exception'>\n",
      "Its always there\n"
     ]
    }
   ],
   "source": [
    "try:\n",
    "    a=input(\"Enter your name\")\n",
    "    if(len(a)<3):\n",
    "        raise Exception\n",
    "    #f=open(\"somemissingfile.txt\",\"r\")\n",
    "except FileNotFoundError: #Specific exception\n",
    "    print(\"File doesnt exist. Please reupload\")\n",
    "except NameError:\n",
    "    print(\"b is not defined\")\n",
    "except Exception: #Generalised Exception\n",
    "    print(\"Please enter a valid name\")\n",
    "    print(Exception)\n",
    "else:\n",
    "    print(\"Form submitted sucessfully\")\n",
    "finally:\n",
    "    print(\"Its always there\")"
   ]
  },
  {
   "cell_type": "code",
   "execution_count": null,
   "metadata": {},
   "outputs": [],
   "source": []
  }
 ],
 "metadata": {
  "kernelspec": {
   "display_name": "Python 3",
   "language": "python",
   "name": "python3"
  },
  "language_info": {
   "codemirror_mode": {
    "name": "ipython",
    "version": 3
   },
   "file_extension": ".py",
   "mimetype": "text/x-python",
   "name": "python",
   "nbconvert_exporter": "python",
   "pygments_lexer": "ipython3",
   "version": "3.7.4"
  }
 },
 "nbformat": 4,
 "nbformat_minor": 2
}
