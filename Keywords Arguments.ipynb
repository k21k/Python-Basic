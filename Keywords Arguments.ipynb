{
 "cells": [
  {
   "cell_type": "code",
   "execution_count": 1,
   "metadata": {},
   "outputs": [
    {
     "name": "stdout",
     "output_type": "stream",
     "text": [
      "I scored 10 in Python\n"
     ]
    }
   ],
   "source": [
    "def myfunc(score,lang):\n",
    "    print(\"I scored %d in %s\"%(score,lang))\n",
    "myfunc(10,\"Python\")"
   ]
  },
  {
   "cell_type": "code",
   "execution_count": 2,
   "metadata": {},
   "outputs": [
    {
     "name": "stdout",
     "output_type": "stream",
     "text": [
      "I scored 101010 in Python\n",
      "10\n"
     ]
    }
   ],
   "source": [
    "def myfunc(score,lang,rollno):\n",
    "    print(\"I scored %d in %s\"%(score,lang))\n",
    "    print(rollno)\n",
    "myfunc(101010,\"Python\",10)"
   ]
  },
  {
   "cell_type": "code",
   "execution_count": 3,
   "metadata": {},
   "outputs": [
    {
     "name": "stdout",
     "output_type": "stream",
     "text": [
      "I scored 10 in Python\n",
      "101010\n"
     ]
    }
   ],
   "source": [
    "def myfunc(score,lang,rollno):\n",
    "    print(\"I scored %d in %s\"%(score,lang))\n",
    "    print(rollno)\n",
    "myfunc(rollno=101010,lang=\"Python\",score=10)"
   ]
  },
  {
   "cell_type": "code",
   "execution_count": null,
   "metadata": {},
   "outputs": [],
   "source": []
  }
 ],
 "metadata": {
  "kernelspec": {
   "display_name": "Python 3",
   "language": "python",
   "name": "python3"
  },
  "language_info": {
   "codemirror_mode": {
    "name": "ipython",
    "version": 3
   },
   "file_extension": ".py",
   "mimetype": "text/x-python",
   "name": "python",
   "nbconvert_exporter": "python",
   "pygments_lexer": "ipython3",
   "version": "3.7.4"
  }
 },
 "nbformat": 4,
 "nbformat_minor": 2
}
