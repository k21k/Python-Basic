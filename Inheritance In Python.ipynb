{
 "cells": [
  {
   "cell_type": "markdown",
   "metadata": {},
   "source": [
    "# Inheritance in Python"
   ]
  },
  {
   "cell_type": "code",
   "execution_count": 6,
   "metadata": {},
   "outputs": [
    {
     "name": "stdout",
     "output_type": "stream",
     "text": [
      "Init School Mmebers:Ram\n",
      "Init teacher: Ram\n",
      "Name Ram 20\n",
      "Salary : 45000\n",
      "Init School Mmebers:Xyz\n",
      "Init student Xyz\n",
      "Marks is 90\n"
     ]
    }
   ],
   "source": [
    "class SchoolMembers:\n",
    "    def __init__(self,name,age):# Base class\n",
    "        self.name=name\n",
    "        self.age=age\n",
    "        print(\"Init School Mmebers:%s\"%self.name)\n",
    "        \n",
    "    def introduce(self):\n",
    "        print(\"Name %s %d\"%(self.name,self.age))\n",
    "        \n",
    "        \n",
    "class Teacher(SchoolMembers):# Should be derived from SchoolMembers\n",
    "    def __init__(self,name,age,salary):\n",
    "        SchoolMembers.__init__(self,name,age)\n",
    "        self.salary=salary\n",
    "        print(\"Init teacher: %s\"%self.name)\n",
    "    def introduce(self):\n",
    "        SchoolMembers.introduce(self)\n",
    "        print(\"Salary : %d\"%(self.salary))\n",
    "        \n",
    "class student(SchoolMembers):\n",
    "    def __init__(self,name,age,marks):\n",
    "        SchoolMembers.__init__(self,name,age)\n",
    "        self.marks=marks\n",
    "        print(\"Init student %s\"%(self.name))\n",
    "    def introduce(self):\n",
    "        print(\"Marks is %s\"%(self.marks))\n",
    "t=Teacher(\"Ram\",20,45000)\n",
    "t.introduce()\n",
    "s=student(\"Xyz\",20,90)\n",
    "s.introduce()\n"
   ]
  },
  {
   "cell_type": "code",
   "execution_count": null,
   "metadata": {},
   "outputs": [],
   "source": []
  }
 ],
 "metadata": {
  "kernelspec": {
   "display_name": "Python 3",
   "language": "python",
   "name": "python3"
  },
  "language_info": {
   "codemirror_mode": {
    "name": "ipython",
    "version": 3
   },
   "file_extension": ".py",
   "mimetype": "text/x-python",
   "name": "python",
   "nbconvert_exporter": "python",
   "pygments_lexer": "ipython3",
   "version": "3.7.4"
  }
 },
 "nbformat": 4,
 "nbformat_minor": 2
}
