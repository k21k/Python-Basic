{
 "cells": [
  {
   "cell_type": "code",
   "execution_count": 1,
   "metadata": {},
   "outputs": [],
   "source": [
    "# Class is basically a blueprint means how a car look , class doesnt take memory, class is like a new datatype\n",
    "# Object color model size price"
   ]
  },
  {
   "cell_type": "code",
   "execution_count": 2,
   "metadata": {},
   "outputs": [
    {
     "name": "stdout",
     "output_type": "stream",
     "text": [
      "<class '__main__.Person'>\n"
     ]
    }
   ],
   "source": [
    "class Person():\n",
    "    pass\n",
    "p=Person()# Object of the class\n",
    "print(type(p))"
   ]
  },
  {
   "cell_type": "code",
   "execution_count": 3,
   "metadata": {},
   "outputs": [],
   "source": [
    "# In a class we can define data attributes functions"
   ]
  },
  {
   "cell_type": "code",
   "execution_count": 15,
   "metadata": {},
   "outputs": [
    {
     "name": "stdout",
     "output_type": "stream",
     "text": [
      "HelloHello\n",
      "My name is  Prateek\n",
      "I am from  Codingblocks\n",
      "I am  Indian\n",
      "My name is  Arnav\n",
      "I am from  Micromax\n",
      "I am  Indian\n"
     ]
    }
   ],
   "source": [
    "class Person():\n",
    "    # Class Variable are common for all objects of the same class\n",
    "    nationality=\"Indian\"\n",
    "    def __init__(self,pname,college):\n",
    "        # Instance variables. these are different every instance of the class\n",
    "        self.name=pname\n",
    "        self.college=college\n",
    "        \n",
    "    def sayHi(self,name):#Self is a keyword which reference to its object\n",
    "        print(\"Hello\"+name)\n",
    "    def printperson(self):\n",
    "        print(\"My name is \",self.name)\n",
    "        print(\"I am from \",self.college)\n",
    "        print(\"I am \",self.nationality)\n",
    "p=Person(\"Prateek\",\"Codingblocks\")\n",
    "p.sayHi(\"Hello\")\n",
    "p.printperson()\n",
    "p2=Person(\"Arnav\",\"Micromax\")\n",
    "p2.printperson()"
   ]
  },
  {
   "cell_type": "code",
   "execution_count": 27,
   "metadata": {},
   "outputs": [
    {
     "name": "stdout",
     "output_type": "stream",
     "text": [
      "['High jump']\n",
      "German Shephard\n",
      "['Long JUmp']\n",
      "Golden retriever\n"
     ]
    }
   ],
   "source": [
    "class Dog():\n",
    "    color=\"Brown\"\n",
    "   # This list is common for all class so we move this to init activites=[]\n",
    "    def __init__(self,breed):\n",
    "        self.activites=[]\n",
    "        self.breed=breed\n",
    "    def addActivity(self,act):\n",
    "        self.activites.append(act)\n",
    "    def doActivity(self):\n",
    "        print(self.activites)\n",
    "        print(self.breed)\n",
    "d1=Dog(\"German Shephard\")\n",
    "d2=Dog(\"Golden retriever\")\n",
    "\n",
    "d1.addActivity(\"High jump\")\n",
    "d2.addActivity(\"Long JUmp\")\n",
    "d1.doActivity()\n",
    "d2.doActivity()\n",
    "\n",
    "\n"
   ]
  },
  {
   "cell_type": "markdown",
   "metadata": {},
   "source": [
    "# Public vs Private"
   ]
  },
  {
   "cell_type": "code",
   "execution_count": 37,
   "metadata": {},
   "outputs": [
    {
     "name": "stdout",
     "output_type": "stream",
     "text": [
      "['High jump']\n",
      "German Shephard\n",
      "Doing secret activity German Shephard\n",
      "['Long JUmp']\n",
      "Golden retriever\n",
      "Doing secret activity Golden retriever\n"
     ]
    }
   ],
   "source": [
    "# By default all the class variables are public\n",
    "#__ makes private method no direct access\n",
    "class Dog():\n",
    "    color=\"Brown\"\n",
    "   # This list is common for all class so we move this to init activites=[]\n",
    "    def __init__(self,breed):\n",
    "        \"\"\"This method accepts the breed of the dog and initializes it\"\"\"\n",
    "        self.activites=[]\n",
    "        self.breed=breed\n",
    "    def __secret_activity(self): #Private\n",
    "        print(\"Doing secret activity\",self.breed)\n",
    "    def addActivity(self,act):\n",
    "        self.activites.append(act)\n",
    "    def doActivity(self):\n",
    "        print(self.activites)\n",
    "        print(self.breed)\n",
    "        self.__secret_activity() # Private member can be called through public method\n",
    "d1=Dog(\"German Shephard\")\n",
    "d2=Dog(\"Golden retriever\")\n",
    "\n",
    "d1.addActivity(\"High jump\")\n",
    "d2.addActivity(\"Long JUmp\")\n",
    "d1.doActivity()\n",
    "d2.doActivity()\n",
    "#d1.__secret_activity()\n",
    "#d2.__secret_activity()"
   ]
  },
  {
   "cell_type": "code",
   "execution_count": null,
   "metadata": {},
   "outputs": [],
   "source": []
  }
 ],
 "metadata": {
  "kernelspec": {
   "display_name": "Python 3",
   "language": "python",
   "name": "python3"
  },
  "language_info": {
   "codemirror_mode": {
    "name": "ipython",
    "version": 3
   },
   "file_extension": ".py",
   "mimetype": "text/x-python",
   "name": "python",
   "nbconvert_exporter": "python",
   "pygments_lexer": "ipython3",
   "version": "3.7.4"
  }
 },
 "nbformat": 4,
 "nbformat_minor": 2
}
